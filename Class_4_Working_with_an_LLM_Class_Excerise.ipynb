{
  "nbformat": 4,
  "nbformat_minor": 0,
  "metadata": {
    "colab": {
      "provenance": [],
      "authorship_tag": "ABX9TyMSJX7oP2KEuDGoNPjWEw+W",
      "include_colab_link": true
    },
    "kernelspec": {
      "name": "python3",
      "display_name": "Python 3"
    },
    "language_info": {
      "name": "python"
    }
  },
  "cells": [
    {
      "cell_type": "markdown",
      "metadata": {
        "id": "view-in-github",
        "colab_type": "text"
      },
      "source": [
        "<a href=\"https://colab.research.google.com/github/yonathanarbel/AI-LAW/blob/main/Class_4_Working_with_an_LLM_Class_Excerise.ipynb\" target=\"_parent\"><img src=\"https://colab.research.google.com/assets/colab-badge.svg\" alt=\"Open In Colab\"/></a>"
      ]
    },
    {
      "cell_type": "markdown",
      "source": [
        "This colab file will take us through the steps necessary to speak with an LLM Programtically.\n",
        "\n",
        "By programtically, I mean that rather than accessing the website, we let Python talk to the LLM. This opens up a host of exciting use cases and allows us to BUILD applications with LLMs.\n",
        "\n",
        "The first step on our journey is to get an API key. Think of it as an access password.\n",
        "(we are not, just yet, running LLMs on our own computers. We are using services of cloud providers today, specifically, Groq)\n",
        "\n",
        "\n",
        "\n"
      ],
      "metadata": {
        "id": "I4b_fZowFxaq"
      }
    },
    {
      "cell_type": "markdown",
      "source": [
        "How do we get our API key?\n",
        "https://console.groq.com/login\n",
        "\n",
        "\n",
        "Create aPI key\n",
        "\n",
        "Give it a name like \"AI-for-lawyers\"\n",
        "\n",
        "\n",
        "\n",
        "copy the key and put it in the cell below\n",
        "\n",
        "Please remember that the API key is linked to your account, so don't let others access it, and make sure it doesn't find its way to the internet. You can save it to your computer, and remove it from the notebook when you are done.\n",
        "\n"
      ],
      "metadata": {
        "id": "DIHEWXFqGPMD"
      }
    },
    {
      "cell_type": "code",
      "execution_count": 1,
      "metadata": {
        "id": "1_6SbZteFn5W"
      },
      "outputs": [],
      "source": [
        "#critical, add your key\n",
        "\n",
        "API_KEY = \"\"\n",
        "\n"
      ]
    },
    {
      "cell_type": "code",
      "source": [
        "#now, some installs & definitions\n",
        "!pip install groq\n",
        "import textwrap\n",
        "from IPython.display import Markdown, display\n",
        "import os\n",
        "import requests\n",
        "import pandas as pd\n",
        "from bs4 import BeautifulSoup\n",
        "from groq import Groq\n",
        "import requests\n",
        "from bs4 import BeautifulSoup\n",
        "import textwrap\n",
        "from IPython.display import display, Markdown\n",
        "import base64\n",
        "import requests\n",
        "from groq import Groq\n",
        "\n",
        "\n",
        "\n",
        "#this is where we tell groq our API key\n",
        "client = Groq(\n",
        "    api_key=API_KEY,\n",
        ")\n",
        "\n",
        "#I also include one function just to make things easier on the eye.\n",
        "\n",
        "def pretty_print(text, width=80):\n",
        "    # Split the text into paragraphs\n",
        "    paragraphs = text.split('\\n\\n')\n",
        "\n",
        "    # Wrap each paragraph\n",
        "    wrapped_paragraphs = []\n",
        "    for p in paragraphs:\n",
        "        # Wrap each paragraph while respecting the breaks\n",
        "        wrapped_paragraphs.append(textwrap.fill(p.strip(), width=width))\n",
        "\n",
        "    # Join the wrapped paragraphs\n",
        "    formatted_text = '\\n\\n'.join(wrapped_paragraphs)\n",
        "\n",
        "    # Display as Markdown\n",
        "    display(Markdown(formatted_text))\n",
        "\n"
      ],
      "metadata": {
        "colab": {
          "base_uri": "https://localhost:8080/"
        },
        "id": "luN4pfZZHOyK",
        "outputId": "19fb6ad9-becd-4781-ed7e-64b15b02c7e7"
      },
      "execution_count": 2,
      "outputs": [
        {
          "output_type": "stream",
          "name": "stdout",
          "text": [
            "Requirement already satisfied: groq in /usr/local/lib/python3.10/dist-packages (0.11.0)\n",
            "Requirement already satisfied: anyio<5,>=3.5.0 in /usr/local/lib/python3.10/dist-packages (from groq) (3.7.1)\n",
            "Requirement already satisfied: distro<2,>=1.7.0 in /usr/lib/python3/dist-packages (from groq) (1.7.0)\n",
            "Requirement already satisfied: httpx<1,>=0.23.0 in /usr/local/lib/python3.10/dist-packages (from groq) (0.27.2)\n",
            "Requirement already satisfied: pydantic<3,>=1.9.0 in /usr/local/lib/python3.10/dist-packages (from groq) (2.9.1)\n",
            "Requirement already satisfied: sniffio in /usr/local/lib/python3.10/dist-packages (from groq) (1.3.1)\n",
            "Requirement already satisfied: typing-extensions<5,>=4.7 in /usr/local/lib/python3.10/dist-packages (from groq) (4.12.2)\n",
            "Requirement already satisfied: idna>=2.8 in /usr/local/lib/python3.10/dist-packages (from anyio<5,>=3.5.0->groq) (3.8)\n",
            "Requirement already satisfied: exceptiongroup in /usr/local/lib/python3.10/dist-packages (from anyio<5,>=3.5.0->groq) (1.2.2)\n",
            "Requirement already satisfied: certifi in /usr/local/lib/python3.10/dist-packages (from httpx<1,>=0.23.0->groq) (2024.8.30)\n",
            "Requirement already satisfied: httpcore==1.* in /usr/local/lib/python3.10/dist-packages (from httpx<1,>=0.23.0->groq) (1.0.5)\n",
            "Requirement already satisfied: h11<0.15,>=0.13 in /usr/local/lib/python3.10/dist-packages (from httpcore==1.*->httpx<1,>=0.23.0->groq) (0.14.0)\n",
            "Requirement already satisfied: annotated-types>=0.6.0 in /usr/local/lib/python3.10/dist-packages (from pydantic<3,>=1.9.0->groq) (0.7.0)\n",
            "Requirement already satisfied: pydantic-core==2.23.3 in /usr/local/lib/python3.10/dist-packages (from pydantic<3,>=1.9.0->groq) (2.23.3)\n"
          ]
        }
      ]
    },
    {
      "cell_type": "code",
      "source": [
        "#we now have access to a few models. Which?\n",
        "\n",
        "url = \"https://api.groq.com/openai/v1/models\"\n",
        "\n",
        "headers = {\n",
        "    \"Authorization\": f\"Bearer {API_KEY}\",\n",
        "    \"Content-Type\": \"application/json\"\n",
        "}\n",
        "\n",
        "response = requests.get(url, headers=headers)\n",
        "\n",
        "# Extract the necessary fields and convert to a pandas DataFrame\n",
        "models_data = response.json()['data']\n",
        "models_table = pd.DataFrame(models_data)[['id', 'owned_by', 'context_window']]\n",
        "\n",
        "# Display the table\n",
        "print(models_table)"
      ],
      "metadata": {
        "colab": {
          "base_uri": "https://localhost:8080/"
        },
        "id": "VaH_ZSpDHXeM",
        "outputId": "8c86ebea-0c1c-4de3-aeee-d01cd86fc65e"
      },
      "execution_count": 3,
      "outputs": [
        {
          "output_type": "stream",
          "name": "stdout",
          "text": [
            "                                       id      owned_by  context_window\n",
            "0              llava-v1.5-7b-4096-preview         Other            4096\n",
            "1                      mixtral-8x7b-32768    Mistral AI           32768\n",
            "2                        llama-guard-3-8b          Meta            8192\n",
            "3                            gemma2-9b-it        Google            8192\n",
            "4   llama3-groq-70b-8192-tool-use-preview          Groq            8192\n",
            "5                 llama-3.1-70b-versatile          Meta          131072\n",
            "6              distil-whisper-large-v3-en  Hugging Face             448\n",
            "7                        whisper-large-v3        OpenAI             448\n",
            "8                    llama-3.1-8b-instant          Meta          131072\n",
            "9                             gemma-7b-it        Google            8192\n",
            "10                        llama3-70b-8192          Meta            8192\n",
            "11   llama3-groq-8b-8192-tool-use-preview          Groq            8192\n",
            "12                         llama3-8b-8192          Meta            8192\n"
          ]
        }
      ]
    },
    {
      "cell_type": "code",
      "source": [
        "#choosing the model\n",
        "#We are starting with language models, so let's pick one\n",
        "model_id = \"llama-3.1-70b-versatile\"\n",
        "\n"
      ],
      "metadata": {
        "id": "y3uLCRvHJzyh"
      },
      "execution_count": 4,
      "outputs": []
    },
    {
      "cell_type": "code",
      "source": [
        "#define a query function\n",
        "# Define a query function to send the audio file\n",
        "def prompt_llm(prompt=\"\", model_id=\"whisper-large-v3\", image_url=None, audio_file_path=None):\n",
        "    content = [{\"type\": \"text\", \"text\": prompt}]\n",
        "\n",
        "    if image_url:\n",
        "        content.append({\n",
        "            \"type\": \"image_url\",\n",
        "            \"image_url\": {\"url\": image_url}\n",
        "        })\n",
        "\n",
        "    # If an audio file is provided, we will send it using the audio API\n",
        "    if audio_file_path:\n",
        "        with open(audio_file_path, \"rb\") as audio_file:\n",
        "            # Here we use the audio transcription API directly\n",
        "            transcription = client.audio.transcriptions.create(\n",
        "                file=(\"audio_file.mp3\", audio_file),  # Send the file as binary\n",
        "                model=model_id,\n",
        "                response_format=\"text\"  # You can change this to \"json\" or \"verbose_json\"\n",
        "            )\n",
        "            return transcription  # Return the transcription text directly\n",
        "\n",
        "    # If no audio file, we send the normal text or image request\n",
        "    chat_completion = client.chat.completions.create(\n",
        "        messages=[\n",
        "            {\n",
        "                \"role\": \"user\",\n",
        "                \"content\": content,\n",
        "            }\n",
        "        ],\n",
        "        model=model_id,\n",
        "    )\n",
        "    return chat_completion.choices[0].message.content\n",
        "\n",
        "\n"
      ],
      "metadata": {
        "id": "l7sQI0JePryo"
      },
      "execution_count": 5,
      "outputs": []
    },
    {
      "cell_type": "code",
      "source": [
        "#let's have fun\n",
        "\n",
        "answer = prompt_llm(prompt = \"In what ways is the study of torts inferior to the study of contracts?\", model_id = model_id)\n",
        "pretty_print(answer)"
      ],
      "metadata": {
        "colab": {
          "base_uri": "https://localhost:8080/",
          "height": 486
        },
        "id": "_qg7LvQ6Qm_R",
        "outputId": "b263f222-e1eb-4592-dffc-39f1bb5aab92"
      },
      "execution_count": 6,
      "outputs": [
        {
          "output_type": "display_data",
          "data": {
            "text/plain": [
              "<IPython.core.display.Markdown object>"
            ],
            "text/markdown": "The study of torts is not necessarily inferior to the study of contracts, as\nboth are essential areas of the law. However, some arguments can be made that\ntort law has some limitations and challenges that may make it seem less\nsystematic and less comprehensive compared to contract law:\n\n1. **Lack of clear boundaries and definitions**: Torts is a broader and more\namorphous area of the law. It encompasses a wide range of actionable wrongs,\nincluding intentional torts (e.g., assault, battery), negligent torts (e.g.,\npersonal injury, property damage), and strict liability torts (e.g., product\nliability). This diversity of wrongful conduct makes it more challenging to\ndefine and categorize torts.\n\n2. **Limited guidance from precedents**: Tort cases often involve unique fact\npatterns, which can make it more difficult to discern clear precedents and rules\nof law. Judges and scholars must often rely on analogous cases or resort to\npolicy-based reasoning to resolve disputes. This lack of guidance from\nprecedents can make it more challenging to teach and apply tort law.\n\n3. **Complexity of establishing duty, breach, causation, and damages**: Tort\nclaims require plaintiffs to prove four essential elements: duty (or\nobligation), breach of duty, causation, and damages. Each element involves a\ndistinct inquiry and requires a nuanced understanding of the relevant case law,\nstatutes, and policy considerations. Contract law, by contrast, typically\nemphasizes the contractual terms and conditions that govern the relationship\nbetween the parties.\n\n4. **Limited opportunity for theoretical coherence**: Tort law may be less\namenable to theoretical coherence due to its focus on resolving factual disputes\nand addressing various forms of wrongdoing. Contract law, by contrast, can be\nunderstood through a more theoretical framework (e.g., formalism, laissez-faire\neconomics), which can provide greater structure and cohesion to the subject.\n\n5. **Frequent reliance on public policy**: Tort courts often rely on public\npolicy considerations to shape the development of tort law. While this may allow\ncourts to address novel issues and ensure tort law adapts to changing societal\nconditions, it also creates controversy and introduces uncertainty. Contract law\ntypically provides more deference to private orderings and market arrangements.\n\n6. **Limited emphasis on consent and agreement**: Tort law is primarily\nconcerned with harm suffered by the plaintiff and whether the defendant is\nresponsible for that harm. In contrast, contract law emphasizes the parties'\nmutual consent and agreement as the foundation of contractual obligations. Some\nargue that this focus on consent and agreement provides greater structure and\ncoherence to contract law.\n\nUltimately, both torts and contracts are crucial areas of the law that require\nattention and understanding. The perceived limitations and challenges of tort\nlaw should not imply its inferiority but rather highlight its complexities and\nnuances."
          },
          "metadata": {}
        }
      ]
    },
    {
      "cell_type": "code",
      "source": [
        "#Ok, now that we had fun, let's do some more serious stuff\n",
        "\n",
        "\n",
        "\n",
        "\n",
        "\n"
      ],
      "metadata": {
        "id": "FlIlUhTaSkHA"
      },
      "execution_count": 7,
      "outputs": []
    },
    {
      "cell_type": "markdown",
      "source": [
        "### Scenario 1: Li Wei - Data Retention Concern\n",
        "\n",
        "Li Wei is a 42-year-old software engineer living in Shanghai, China. In 2010, she purchased her first iPhone while on a business trip to the United States. She created an Apple ID to set up the device and has been using various Apple services since then.\n",
        "\n",
        "Recently, Li Wei became concerned about data privacy and decided to request all the data Apple had stored about her. To her surprise, she discovered that Apple still retained detailed information about her initial iPhone purchase from 14 years ago, including the transaction details and her shipping address at the time.\n",
        "\n",
        "Li Wei is worried that Apple might be violating its own data retention policies by keeping this information for so long. She wants to know if she has any recourse under Apple's privacy policy or applicable laws.\n",
        "\n",
        "### Scenario 2: Akira Tanaka - Cross-Border Data Transfer\n",
        "\n",
        "Akira Tanaka is a 28-year-old graphic designer from Tokyo, Japan. He's been using Apple products for years and recently started using iCloud+ for storing his work files. Akira frequently travels between Japan and the United States for client meetings.\n",
        "\n",
        "During a recent trip to New York, Akira noticed that he could access all his iCloud data seamlessly, just as he could in Japan. This made him wonder about the implications of cross-border data transfers. He's particularly concerned about whether his professional work, which sometimes includes confidential client information, is adequately protected when he accesses it from different countries.\n",
        "\n",
        "Akira wants to understand Apple's policies on international data transfers and storage. He's especially interested in knowing where his data is physically stored, how it's protected during transfers, and whether there are any specific considerations he should be aware of as a user who frequently works across international borders."
      ],
      "metadata": {
        "id": "IMuTDeRTbDnt"
      }
    },
    {
      "cell_type": "code",
      "source": [
        "#Consider Apple's privacy policy for the Apple ID\n",
        "\n",
        "url = \"https://www.apple.com/legal/privacy/data/en/apple-id/\"\n",
        "\n",
        "def fetch_policy(url):\n",
        "    response = requests.get(url)\n",
        "    response.raise_for_status()\n",
        "    soup = BeautifulSoup(response.text, 'html.parser')\n",
        "    content = soup.find('main', class_='main')\n",
        "    if content:\n",
        "        # Preserve the breaks between sections and paragraphs\n",
        "        return content.get_text(separator='\\n\\n', strip=True)\n",
        "    else:\n",
        "        return \"Couldn't find the main content.\"\n",
        "\n",
        "policy = fetch_policy(url)\n",
        "\n",
        "pretty_print(policy)"
      ],
      "metadata": {
        "colab": {
          "base_uri": "https://localhost:8080/",
          "height": 1000
        },
        "id": "anhdIhlUbJ64",
        "outputId": "1d92429d-cbd0-4a07-c29b-ac1e1cbf5b28"
      },
      "execution_count": 8,
      "outputs": [
        {
          "output_type": "display_data",
          "data": {
            "text/plain": [
              "<IPython.core.display.Markdown object>"
            ],
            "text/markdown": "English\n\nChoose your preferred language\n\nApple ID & Privacy\n\nYour Apple ID information is used to enable Apple services when you sign in,\nincluding iCloud Backup, which automatically backs up the data on your device in\ncase you need to replace or restore it. Your device serial number may be used to\ncheck eligibility for service offers.\n\nApple ID is designed to protect your information and enable you to choose what\nyou share.\n\nWhen you sign in with your Apple ID, you will enable services such as iCloud,\nthe App Store, iMessage, and Find My on this iPhone.\n\nCertain data, including your contacts, calendars, photos, documents, health,\nactivity, and other app data, will be sent to Apple to store and back up on your\nbehalf.\n\nIn addition, your device will be associated with your Apple ID to provide you\nwith better service and support.\n\nYour Apple ID and all Apple services are designed from the ground up to protect\nyour privacy. We work hard to collect only the data we need to make your\nexperience better. When we do collect data, we believe it’s important for you to\nknow what we’re collecting and why we need it, so you can make informed choices.\n\nAn Apple ID is the personal account you use to access Apple services like\niCloud, the App Store and other Apple online stores, iMessage, and FaceTime, and\nto access your content across all your devices and the web. Your Apple ID\nincludes the information you use to sign in, as well as all the contact,\npayment, and security details, such as trusted phone numbers or security\nquestions, that you use across Apple services. Apple retains your device’s name,\nserial number, and other hardware identifiers to provide you with better service\nand support, including as a convenience to display the warranty status of your\ndevice and to check your eligibility for service offers when you activate a\ndevice. You can edit your Apple ID information and view a list of your devices\nand phone numbers on your Apple ID account page at\n\nappleid.apple.com\n\n.\n\nWhen you sign in with your Apple ID, you will enable services such as iCloud,\nthe App Store, iMessage, FaceTime, and Find My on this iPhone. Your Apple ID\naccount information, including your associated phone number, will be used with\neach service, which will generate analytics information that may be used to\nmaintain and improve those services. Additionally, certain data from your\ndevice, including your selected profile photo, your contacts, calendars, photos,\ndocuments, health, activity, Safari tabs, and other app data, will be sent to\nApple to store and back up on your behalf.\n\nApple collects information associated with your Apple ID to determine whether\nyour device is eligible for certain legally required features and services,\nwhich are based on the country or region in which your device is located. We\nalso collect information about the apps you install, including from where you\ninstall them (for example, a website or app marketplace), associated with your\nApple ID for accounting, reporting, analytics, and fraud detection purposes in\nconnection with the enablement of these legally required features and services.\nIn addition, we use the age associated with your Apple ID to comply with our\nobligations, including providing age-appropriate information about your privacy\nrights in certain cases.\n\niCloud and Privacy\n\nSigning in to iCloud\n\nWhen you use iCloud, certain data you store on your device will be automatically\nsent to and stored by Apple. This allows you to access your data on all your\niCloud-enabled devices or computers (“devices”) automatically. This data may\ninclude:\n\nContacts\n\nCalendars\n\nReminders\n\nBookmarks\n\nSafari tabs\n\nHealth data\n\nHome data\n\nNotes\n\nFreeform\n\nPhotos\n\nDocuments\n\nWallet data\n\nKeychain and passwords\n\nPhone number on your device\n\nDevice and account settings\n\nData from other Apple apps that use iCloud\n\nData from third-party apps that use iCloud\n\niCloud Backup is also enabled to help ensure you have a current backup of the\ndata on your device in case you need to replace or restore it.\n\nYou can adjust which iCloud features are enabled and what data is sent to iCloud\nfrom Settings on your device at any time.\n\niCloud Data Security\n\niCloud protects your information by encrypting it when it’s in transit, storing\nit in iCloud in an encrypted format, and using secure tokens for authentication.\nFor certain information, Apple uses end-to-end encryption. This means that, by\ndesign, only you can access this information, and only on devices where you’re\nsigned in to iCloud. No one else, not even Apple, can access end-to-end\nencrypted information. For more information on iCloud Data Security, visit\n\nsupport.apple.com/102651\n\n.\n\nBoth Apple and third-party data centers may be used to store and process your\ndata. When processing data stored in a third-party data center, encryption keys\nare accessed only by Apple software running on secure servers, and only while\nconducting the necessary processing.\n\niCloud Keychain\n\niCloud Keychain keeps your Safari website usernames and passwords, credit card\ninformation, and Wi-Fi network information up to date and available across all\nyour devices. It can also store the account information you use for Mail,\nContacts, Calendar, Messages, Facebook, Twitter, LinkedIn, and other internet\naccounts and automatically add this information to all of your devices.\n\niCloud Keychain uses end-to-end encryption and is designed so that only you can\naccess this information and only on devices where you’re signed in to iCloud. No\none else, not even Apple, can access your iCloud keychain data. You can choose\nto turn off iCloud Keychain in your iCloud settings at any time.\n\niCloud Backup\n\nWhen you use iCloud Backup, your backup may include photos, videos, messages\n(iMessage, SMS, and MMS), Health and other app data, location settings (such as\nlocation-based reminders that you have set up), Visual Voicemail, device\nsettings, device characteristics, and other data from your iOS or iPadOS device\ndepending on your Settings.\n\nYou can stop iCloud from backing up your app data for a particular app by going\nto Settings > [your name] > iCloud > Manage Storage > Backups, selecting your\niOS or iPadOS device in the Backups section, and tapping to turn off the apps\nfor which you’d like to disable backup.\n\nYou can turn off iCloud Backup entirely from iCloud settings and use Finder\n(macOS Catalina 10.15 or later) or iTunes (macOS Mojave 10.14 or earlier) to\nback up your iOS or iPadOS device to your computer. To completely remove your\nbackup data from iCloud, you can delete your individual backups before turning\noff iCloud Backup. Otherwise, the backup data will be retained for up to 180\ndays.\n\nSharing Data with iCloud\n\nIf you use iCloud to share files either publicly or privately in Notes, Pages,\nNumbers, Keynote, Freeform, and certain third-party apps, Apple will store and\nhave access to the shared file. Your first and last name associated with your\naccount (if applicable), the phone number on your device, and the file name will\nbe available to anyone who has access to the sharing link, regardless of whether\nyour share is private or public. The identities of private share participants\nwill not be made available to anyone who has not been invited to and accepted\nthe private share.\n\nIf you create or join a Shared Library, all participants can add, edit, or\ndelete photos and videos in the Shared Library through iCloud. There are several\nways to add content to a Shared Library either manually or with automatic\nsharing. You can control how you want to share content by going to Settings >\nPhotos > Shared Library > Share from Camera on your iOS or iPadOS device.\n\niCloud and Apps\n\nSome apps use iCloud to store data and content you provide to the app, so you\ncan access the data across all your iCloud-enabled devices. The app may choose\nto store some or all of your data in iCloud. Third-party apps can request to\nlook you up, so that other users of that application can see your first and last\nname when they search by Apple ID.\n\nYou can stop an app from storing data in iCloud by turning off its access to\niCloud. To do so, go to Settings > [your name] > iCloud, and tap to turn off\napps shown in the list.\n\nApple Services That Require iCloud\n\nTo use Apple services like Apple Pay, Activity sharing, Home, Handoff, Universal\nClipboard, and Unlock with Apple Watch, you must be signed in to iCloud on your\ndevice. Apple uses your iCloud plan to verify your eligibility to set up and use\nSecure Camera Recording in the Home app. Apple can’t access the content of your\ncamera recordings. You do not need to use all iCloud features and can turn off\nany iCloud features you don’t want to use in iCloud settings on your device.\n\nSigning Out of iCloud\n\nIf you want to stop using iCloud on your iOS or iPadOS device and any paired\nApple Watch, you can sign out of iCloud by going to Settings > [your name] and\ntapping Sign Out. To stop using iCloud on your Mac, go to System Settings >\n[your name] and click Sign Out. Your Apple ID password may be required.\n\nCommunicating with You\n\nApple may use information about your account, such as the Apple products you\nown, devices registered to your account, and your subscriptions to Apple\nservices, to send you communications about iCloud and other Apple products,\nservices, and offers that may be of interest to you, including Apple One. Your\ndevice serial number may be used to check eligibility for service offers. If you\nare in a Family Sharing group, Apple may send you communications about products,\nservices, and offers available to you through Family Sharing. If you purchase an\nApple One subscription, we may send you communications about the features of\neach of the services for which you have subscribed.\n\nEmail Marketing\n\nYou may receive these communications by email, if you consent to receive email\nmarketing. You can change your email preferences and opt out of receiving these\nemails by going to\n\nappleid.apple.com\n\n, or on your iOS or iPadOS device by going to Settings > [your name] > Personal\nInformation.\n\nPush Notifications\n\nYou may also receive these communications by push notification. To update your\nnotification preferences or to opt out of notifications on your iOS or iPadOS\ndevice, go to Settings > Notifications.\n\nFamily Sharing\n\nFamily Sharing lets you and your family group share subscriptions, purchases,\nand location. The family organizer can set up parental controls such as Ask to\nBuy and Screen Time for children in the family group. For more information on\nFamily Sharing, visit\n\nwww.apple.com/legal/privacy/data/en/family-sharing\n\n.\n\niMessage, FaceTime, and iCloud\n\nWhen you sign in with your Apple ID on your iPhone, you will be signed in to\niMessage, FaceTime, iCloud, and other Apple services automatically. The phone\nnumber on your device will also be verified and associated with your Apple ID.\nYour Apple ID or phone numbers will be shown to the people you contact or share\ndata with, and people can reach you using your Apple ID, and email addresses or\nphone numbers on your account. You can choose how people can reach you by going\nto Settings > [your name] > Personal Information. You can also learn more about\niMessage and FaceTime and Privacy by going to Settings > Messages and tapping\nAbout iMessage and FaceTime & Privacy.\n\niTunes and App Store and Music\n\nWhen you sign in with your Apple ID on your iPhone, you will be signed in to the\niTunes Store, the App Store, and Apple Music automatically so that you can make\npurchases or begin using Apple Music quickly and easily. Any purchases you\nchoose to make will be recorded in our systems so you can redownload them at any\ntime. If you use Apple Music, your listening history may be retained and used to\nhelp provide personalized recommendations. You can choose not to share your\nlistening history from Apple Music settings.\n\nIf iTunes Match is available in your region and you use iTunes Match, iCloud\nwill collect information about media in your iTunes library, and either match\nmedia to songs currently available in the iTunes Store or upload songs that\ncannot be matched, after which those songs can be accessed by your eligible\ndevices.\n\nApple One\n\nIf your mobile network provider offers Apple One subscriptions and free trials,\nApple may check your phone number to determine if you are eligible through a\nmobile network provider partner. If you signed up through your mobile network\nprovider, your phone number is used to identify your account and to let the\nmobile network provider know that you have activated your subscription. We will\nuse the phone number associated with your subscription to verify your account at\nsign in and to connect your Apple One subscription with your account.\n\nPayment Methods, Gift Cards, and Adding Funds to Apple ID Balance\n\nTo make purchases from App Store, iTunes, Music, and more, you must add a valid\npayment method to your Apple ID. To add a payment method on iOS, go to Settings\n> [your name] > Payment & Shipping, tap Add Payment Method, and add relevant\npayment details. You may add payment details by manually entering information or\ntaking a picture of your payment card. If you choose to add payment details by\ntaking a picture of your payment card, your device will pull the relevant\ninformation from the image to populate the required fields; the image will not\nbe seen or stored by Apple. Apple collects and stores the payment method details\nthat you provide, including account number and expiration date, to carry out\nyour purchases, comply with law, and to prevent fraud. You may also provide\nApple with a billing and shipping address, which may be used for marketing and\nanalytics purposes, as well as to comply with law and prevent fraud.\n\nWhen you use a payment card, Apple may retain and automatically update your card\nnumber and billing information for future purchases, recurring transactions, or\nother uses you authorize. Apple may obtain this information from your financial\ninstitution or payment network, and also use it for fraud prevention and\nverification.\n\nIf you have enabled Apple Pay, Apple will also check whether any Apple Pay\npayment methods are eligible to be added as a payment method on file to your\nApple ID and display those payment methods below Found in Wallet. When you\nconduct a transaction with your Apple ID, Apple may also check whether any\nApple ID payment methods on file are eligible for Apple Pay. If so, to help\nsafeguard your payment information, Apple may enable Apple Pay for that payment\nmethod. You can modify your payment methods at any time by going to Settings >\n[your name] > Payment & Shipping.\n\nYou may purchase an Apple gift card using a payment method associated with your\nApple ID and share the gift card with a recipient by providing Apple with their\nemail address, your name, and the gift card amount. You may also enter a message\nif you so choose. Apple will use recipient information for purposes of gift card\nsales and redemptions, to comply with law, and to prevent fraud.\n\nYou may also redeem an Apple gift card by applying the gift card value to your\nApple ID balance. When you redeem an Apple gift card, information about the gift\ncard will be associated with your Apple ID balance and may be used by Apple to\ncomply with law and to prevent fraud. Certain information about your gift card\nredemption, such as the number of gift cards that you have redeemed, may also be\nused to personalize your redemption experience and communications from Apple to\nyou. You may opt out of use of gift card information for personalization by\ngoing to the iTunes Store, scrolling to the bottom, tapping Apple ID > View\nApple ID and tapping to turn off Personalized Recommendations.\n\nYou may add funds directly to your Apple ID balance using your payment method on\nfile. When you add funds to your Apple ID balance, you may have the option to\nset automatic amount or time intervals for recurring funds increases. When you\nset up automatic funds increases, you will receive communications from Apple on\nyour device or by email concerning your balance or recurring funds increases\n(for example confirmation notices, receipts, and reminders once you’ve\nenrolled). You can update or stop the automatic funds increases at any time in\nyour Apple ID account settings.\n\nAfter you redeem a gift card or add funds to your Apple ID balance, your updated\nApple account balance will be visible in Wallet so that you can easily use your\nApple account balance for Apple Store purchases.\n\nTo improve your experience with payment methods, gift cards, and adding funds to\nyour Apple ID balance, Apple may collect certain data about your interactions,\nincluding your clicks and taps, with your Apple ID account payment settings.\n\nSubscription Management\n\nYou can view and manage your subscriptions to Apple services and third-party\nservices purchased through Apple’s in-app purchase system in your Apple ID\naccount Settings. On iOS, go to Settings > [your name] and tap Subscriptions. To\nview the details of, manage, and cancel an active or recently active\nsubscription, tap the subscription. You may also manage the sharing of your\nsubscription with your Family if you are in an iCloud family, as well as your\nRenewal Receipt preferences. To improve your experience with subscription\nmanagement, Apple may collect data about your interactions, including what you\nview, click, and tap, within your Apple ID account Subscription settings.\n\nUsage Data\n\nWe also collect data on your use of iCloud to provide and improve the quality of\nthe service. To help address customer issues if they arise, some of this data\nmay be associated with your Apple ID. We may use your IP address to determine\nthe city and country from which you are accessing the service, but we do not\nretain it.\n\nApplicable Legal Basis for Processing Personal Data\n\nWe process your Apple ID and the associated information described above\ngenerally for performance of your contract with Apple, as necessary for\nproviding the service, and to comply with our legal obligations. Where consent\nis the appropriate legal basis, we seek it in accordance with applicable local\nlaw.\n\nWhere applicable law provides, we process the following categories of personal\ndata as necessary for purposes of our legitimate interests or those of a third\nparty, including information about:\n\nYour Apple ID account, including information you use to sign in, as well as all\nthe contact, payment, and security details, such as trusted phone numbers or\nsecurity questions, that you use across Apple services\n\nThe apps you install, including from where you install them (for example, a\nwebsite or app marketplace)\n\nWhether your device is eligible for certain legally required services and\nfeatures based on the country or region in which it is located\n\nYour devices, including your device’s name, serial number, and other hardware\nidentifiers\n\nYour use of, and subscriptions to, various Apple services, such as iCloud, the\niTunes Store, the App Store, Apple Music, and Apple One\n\nPayment details, including account numbers and expiration dates, billing and\nshipping addresses, and gift card redemption information\n\nThese legitimate interests include:\n\nProviding you and others with better service and support, and for accounting,\nreporting, and analytics purposes\n\nDetermining the availability of and enabling legally required features and\nservices\n\nUsing your data to send you offers via email and push notifications that may be\nof interest to you\n\nChecking eligibility for offers\n\nPreventing fraud and other malicious activity\n\nRetention\n\nWhere you make a purchase such as a subscription, we retain personal data\nassociated with your purchase for the periods specified by applicable laws\nrelating to financial reporting, which vary by region. For most customers, that\nrequires at least a 10-year retention period, but in regions such as China that\nperiod can be 30 years. We may also retain a record of your interactions with\niCloud-related services. These records are typically stored for 30 days but may\nbe stored for up to three years in an aggregated form, unless we are required by\nlaw or legal process to store them for a longer period.\n\nIf you delete your Apple ID account, we retain a record of the deleted account\nto comply with legal obligations, including as described above, and for so long\nas necessary for the legitimate interests of account security. If you choose to\ncreate a new account later, you will need to use an email address that is not\nassociated with the account you have requested we delete. If you used a phone\nnumber to create your account, it cannot be used to create another account for\nthe same reasons. You will not be able to remove the primary email address for\nthe account or the phone number if you used it to create the account. We may\nalso be required to retain information to comply with a court settlement or\nother equivalent mandated process.\n\nWhere we delete an account, we make our best efforts to delete all personal data\nassociated with your account. If we delete your personal data, we will both\nrender certain personal data about you permanently unrecoverable and also\ndeidentify certain personal data.\n\nAt all times, information collected by Apple will be treated in accordance with\nApple’s Privacy Policy, which can be found at\n\nwww.apple.com/privacy\n\nPublished Date: July 30, 2024"
          },
          "metadata": {}
        }
      ]
    },
    {
      "cell_type": "code",
      "source": [
        "prompt = \"What is the data retention policy in this privacy policy? \" + policy\n",
        "\n",
        "answer = prompt_llm(prompt = prompt, model_id = model_id)\n",
        "pretty_print(answer)\n",
        "\n"
      ],
      "metadata": {
        "colab": {
          "base_uri": "https://localhost:8080/",
          "height": 192
        },
        "id": "-f3RElGlZ2OZ",
        "outputId": "b57331e0-4d78-42f2-fcff-d3fc8f3c74d0"
      },
      "execution_count": 9,
      "outputs": [
        {
          "output_type": "display_data",
          "data": {
            "text/plain": [
              "<IPython.core.display.Markdown object>"
            ],
            "text/markdown": "According to the provided text, the data retention policy is as follows:\n\n- When you make a purchase such as a subscription, Apple retains personal data\nassociated with your purchase for the periods specified by applicable laws\nrelating to financial reporting, which vary by region. For most customers, that\nrequires at least a 10-year retention period, but in regions such as China that\nperiod can be 30 years. - Apple retains a record of your interactions with\niCloud-related services. These records are typically stored for 30 days but may\nbe stored for up to three years in an aggregated form, unless they are required\nby law or legal process to store them for a longer period. - If you delete your\nApple ID account, Apple retains a record of the deleted account to comply with\nlegal obligations and for so long as necessary for the legitimate interests of\naccount security. However, Apple makes efforts to delete all personal data\nassociated with your account, rendering certain personal data about you\npermanently unrecoverable and deidentifying certain personal data. - For iCloud\nbackup data, if you want to completely remove your backup data from iCloud, you\ncan delete your individual backups before turning off iCloud Backup. Otherwise,\nthe backup data will be retained for up to 180 days."
          },
          "metadata": {}
        }
      ]
    },
    {
      "cell_type": "code",
      "source": [
        "#let's help Li Wei\n",
        "\n",
        "prompt = f\"\"\"Based on the data retention policy you described earlier:\n",
        "{answer}\n",
        "What is the specific retention period for purchase information and shipping addresses? Is there any mention of different retention periods for users in different countries?\"\"\"\n",
        "\n",
        "response = prompt_llm(prompt=prompt, model_id=model_id)\n",
        "pretty_print(response)\n",
        "\n"
      ],
      "metadata": {
        "colab": {
          "base_uri": "https://localhost:8080/",
          "height": 169
        },
        "id": "IPQoe2zhaG-z",
        "outputId": "740ae54e-c30d-431f-e06e-a72b3c3505bf"
      },
      "execution_count": 10,
      "outputs": [
        {
          "output_type": "display_data",
          "data": {
            "text/plain": [
              "<IPython.core.display.Markdown object>"
            ],
            "text/markdown": "According to the data retention policy, the retention period for purchase\ninformation is based on applicable laws relating to financial reporting. The\nspecific periods mentioned are:\n\n- At least 10 years for most customers - Up to 30 years in regions such as China\n\nThis indicates that different retention periods may apply to users in different\ncountries or regions, with the example given being China having a retention\nperiod of up to 30 years compared to at least 10 years for most other customers.\n\nThere is no specific mention of a retention period for shipping addresses, but\nit is stated that the retention period for purchase information is tied to\napplicable laws relating to financial reporting."
          },
          "metadata": {}
        }
      ]
    },
    {
      "cell_type": "code",
      "source": [
        "#Let's go more specific!\n",
        "\n",
        "prompt = f\"\"\"Given the following information:\n",
        "1. Li Wei made a purchase in 2010 (14 years ago)\n",
        "2. Apple still retains detailed information about this purchase, including transaction details and shipping address\n",
        "3. The data retention policy you described earlier: {answer}\n",
        "\n",
        "Does it appear that Apple is complying with its own data retention policy in Li Wei's case? If not, what specific aspects of the policy might be violated?\"\"\"\n",
        "\n",
        "response = prompt_llm(prompt=prompt, model_id=model_id)\n",
        "pretty_print(response)\n",
        "\n"
      ],
      "metadata": {
        "colab": {
          "base_uri": "https://localhost:8080/",
          "height": 145
        },
        "id": "nnH6Soq1dKI0",
        "outputId": "35c1c182-5598-4f0e-a13c-a7acbd2a954a"
      },
      "execution_count": 11,
      "outputs": [
        {
          "output_type": "display_data",
          "data": {
            "text/plain": [
              "<IPython.core.display.Markdown object>"
            ],
            "text/markdown": "Based on the information provided, it appears that Apple is not complying with\nits own data retention policy in Li Wei's case.\n\nSpecifically, the data retention policy for purchases states that Apple retains\npersonal data associated with a purchase for at least a 10-year retention period\nfor most customers. Since Li Wei made the purchase 14 years ago, which is beyond\nthe stated retention period of 10 years, Apple should have removed or de-\nidentified the detailed information about this purchase, including transaction\ndetails and shipping address.\n\nApple's data retention policy does not provide any justification for retaining\ndetailed purchase information for more than 10 years. China's 30-year retention\nperiod requirement does not seem to apply here since the question doesn't\nexplicitly mention Li Wei's location or any Chinese regulations applicable to\nthe case."
          },
          "metadata": {}
        }
      ]
    },
    {
      "cell_type": "code",
      "source": [
        "prompt = f\"\"\"Based on the privacy policy and the data retention information you provided earlier:\n",
        "{answer}\n",
        "What rights does Li Wei have regarding her data? Are there any specific procedures mentioned for requesting data deletion or challenging retention practices?\"\"\"\n",
        "\n",
        "response = prompt_llm(prompt=prompt, model_id=model_id)\n",
        "pretty_print(response)"
      ],
      "metadata": {
        "colab": {
          "base_uri": "https://localhost:8080/",
          "height": 243
        },
        "id": "y2Mm53xHdMql",
        "outputId": "3f7897a7-a982-41e5-9bc1-138f5b55563f"
      },
      "execution_count": 12,
      "outputs": [
        {
          "output_type": "display_data",
          "data": {
            "text/plain": [
              "<IPython.core.display.Markdown object>"
            ],
            "text/markdown": "Based on the provided text, Li Wei has the following rights regarding her data:\n\n1. **Deletion of account and data**: Li Wei can delete her Apple ID account,\nafter which Apple will retain a record of the deleted account to comply with\nlegal obligations and for account security. However, Apple will make efforts to\ndelete personal data associated with the account, rendering it permanently\nunrecoverable and deidentifying certain data. 2. **Deletion of backup data**: Li\nWei can delete her individual iCloud backups, and if she turns off iCloud\nBackup, the backup data will be retained for up to 180 days.\n\nRegarding specific procedures for requesting data deletion or challenging\nretention practices, the provided text does not mention:\n\n* A specific procedure for requesting data deletion, other than deleting\nindividual iCloud backups or deleting the entire Apple ID account. * Any\nprocedure for challenging retention practices or disputing data retention\nperiods.\n\nIt is likely that Li Wei would need to contact Apple's customer support or refer\nto Apple's official website for more information on how to request data deletion\nor challenge retention practices."
          },
          "metadata": {}
        }
      ]
    },
    {
      "cell_type": "code",
      "source": [
        "#Akira Tanaka - Cross-Border Data Transfer\n",
        "\n",
        "prompt = f\"\"\"Referring back to the Apple privacy policy:\n",
        "{policy}\n",
        "What does the policy say about where user data is physically stored? Is there any mention of specific countries or regions where data centers are located?\"\"\"\n",
        "\n",
        "response = prompt_llm(prompt=prompt, model_id=model_id)\n",
        "pretty_print(response)"
      ],
      "metadata": {
        "colab": {
          "base_uri": "https://localhost:8080/",
          "height": 104
        },
        "id": "txTfQo15dNWF",
        "outputId": "a5b8da70-63ec-4c46-f9e1-6b66613f0e98"
      },
      "execution_count": 13,
      "outputs": [
        {
          "output_type": "display_data",
          "data": {
            "text/plain": [
              "<IPython.core.display.Markdown object>"
            ],
            "text/markdown": "According to the Apple privacy policy, your data may be stored and processed in\nboth Apple and third-party data centers. The policy does not specify the exact\nlocation of these data centers, however.\n\nThe policy mentions \"both Apple and third-party data centers may be used to\nstore and process your data,\" and also notes that \"your data may be accessed,\ntransferred to, and stored in servers within and outside your country of\nresidence, the servers being located in a country where Apple operates an\naffiliate.\""
          },
          "metadata": {}
        }
      ]
    },
    {
      "cell_type": "code",
      "source": [
        "prompt = f\"\"\"Based on the Apple privacy policy:\n",
        "{policy}\n",
        "How does Apple handle cross-border data transfers? Are there any specific safeguards or considerations mentioned for users who access their data from different countries?\"\"\"\n",
        "\n",
        "response = prompt_llm(prompt=prompt, model_id=model_id)\n",
        "pretty_print(response)"
      ],
      "metadata": {
        "colab": {
          "base_uri": "https://localhost:8080/",
          "height": 358
        },
        "id": "Zi0S4oSidTB4",
        "outputId": "971b20a1-7712-4b17-c5f4-86a73b93eef3"
      },
      "execution_count": 14,
      "outputs": [
        {
          "output_type": "display_data",
          "data": {
            "text/plain": [
              "<IPython.core.display.Markdown object>"
            ],
            "text/markdown": "The given Apple Privacy Policy does not explicitly mention cross-border data\ntransfers or country-specific safeguards. However, based on general information\nand Apple's overall data protection policies, it can be inferred that Apple\ncomplies with international data transfer regulations and standards for data\nprotection, such as:\n\n1. **GDPR (General Data Protection Regulation)**: Apple has implemented\nprocedures to comply with GDPR for its users in the European Union, such as\nensuring their data is processed lawfully and has adequate security measures in\nplace. 2. **International data transfer frameworks**: Apple relies on data\ntransfer frameworks, such as the **Standard Contractual Clauses (SCCs)** for\ntransfers to the United States or other non-EU countries. Apple uses SCC-\napproved adequacy frameworks for transferring personal data to the United States\nfrom the EU and Switzerland. This provides assurance that the personal data\ntransferred outside the EU/Switzerland is protected to the same standard as in\nthe EU/Switzerland.\n\nApple also adheres to additional measures to ensure its users' data is protected\nacross countries, such as:\n\n1. **Encryption**: Apple uses encryption to safeguard personal data when in\ntransit, regardless of the country from where data is accessed or provided. 2.\n**Access controls**: Apple restricts access to personal data, with most Apple\nteam members having access only when it's required for performing their specific\njob tasks.\n\nHowever, it is essential for users to note that accessing data from different\ncountries might expose them to varying data protection standards and\njurisdictions. Apple disclaims responsibility for any issues that may arise due\nto accessing their services from multiple countries.\n\nWhile the exact language for cross-border data transfer in this policy is\nmissing, Apple emphasizes the importance of keeping an eye on their official\nPrivacy Policy page (www.apple.com/privacy) to get more details on their\ninternational data transfer policies."
          },
          "metadata": {}
        }
      ]
    },
    {
      "cell_type": "code",
      "source": [
        "prompt = f\"\"\"Considering the Apple privacy policy and Akira's situation:\n",
        "1. Akira is a Japanese citizen who frequently travels to the US\n",
        "2. He uses iCloud+ to store work files, including confidential client information\n",
        "3. He accesses this data from both Japan and the US\n",
        "\n",
        "What specific privacy considerations or protections are relevant to Akira's case? Does the policy mention any differences in data handling or user rights for international users?\"\"\"\n",
        "\n",
        "response = prompt_llm(prompt=prompt, model_id=model_id)\n",
        "pretty_print(response)"
      ],
      "metadata": {
        "colab": {
          "base_uri": "https://localhost:8080/",
          "height": 536
        },
        "id": "LbiUaqPzdYQx",
        "outputId": "afca15ec-ec92-4bde-88c9-2b639775e51b"
      },
      "execution_count": 15,
      "outputs": [
        {
          "output_type": "display_data",
          "data": {
            "text/plain": [
              "<IPython.core.display.Markdown object>"
            ],
            "text/markdown": "Given Akira's situation, the following Apple privacy policy considerations are\nrelevant:\n\n1. **Data Storage and Transfers**: As Akira stores data in iCloud+, Apple's data\nstorage and transfer policies apply. According to Apple, iCloud data is stored\nin multiple locations, including the United States and other countries. This\nmeans that Akira's data may be stored and transferred across borders.\n\n*Protection*: Apple uses encryption to protect data in transit and at rest.\nHowever, Akira should be aware that data may be subject to disclosure under the\nlaws of the countries where it is stored.\n\n2. **Country-Specific Laws and Regulations**: As a Japanese citizen who accesses\ndata from both Japan and the US, Akira's data may be subject to different laws\nand regulations in each country.\n\n*Protection*: Apple notes that it complies with the Children's Online Privacy\nProtection Act in the US and the General Data Protection Regulation (GDPR) in\nthe European Economic Area. However, for Japan, the policy mentions compliance\nwith the Act on the Protection of Personal Information. Apple's policy also\nreserves the right to disclose data in response to government and court\nrequests.\n\n3. **Data Request Policy**: This policy outlines how law enforcement,\ngovernments, and users can request access to data. For non-US users like Akira,\nApple may respond to a request if the company is operating in the requested\ncountry or if the data is in the country.\n\n*Protection*: Apple has a data request policy in place to ensure that user data\nis handled sensitively and in compliance with relevant laws. It also enables\nusers to request a copy of their stored data and permits users to delete their\niCloud data upon request.\n\n4. **Japan-Specific Considerations**: In compliance with the Japanese Act on the\nProtection of Personal Information, Apple allows users to:    - Request\ndisclosure, correction, suspension of use, or erasure of their personal data.\n- Object to or restrict the use of their personal data.\n\n*Protection*: Akira's rights as a Japanese citizen are safeguarded under this\nApple policy, ensuring he has greater control over his personal data stored and\nprocessed by Apple.\n\nOverall, Apple's policy provides international users with the same general\nrights to data protection and control. However, Akira's right to data handling\nmight be influenced by different country-specific laws, and the extent of rights\nregarding data handling across both Japan and the US will depend on compliance\nwith those local laws."
          },
          "metadata": {}
        }
      ]
    },
    {
      "cell_type": "code",
      "source": [
        "#chains\n",
        "\n",
        "#One very important reasons to work with LLMs programtically has to do with CHAINING actions\n",
        "\n",
        "#Let's say we are doing an in take system, where we have a system decide on how to route clients to lawyers\n",
        "\n",
        "#For simplicity, let's say we want to know if the case is civil/criminal, and if it is civil, ask them if it is a high damages cases > $50k, and if it is criminal whether they have a police report.\n",
        "#Then we take teh answer and draft an email to the lawyer.\n",
        "\n",
        "client_input = \"\"\"Yeah so I'm calling because I was trying to get a good lawyer. This neighbor of mine, you know,\n",
        "he's been dumping his trash in my yard for months now. I've asked him to stop multiple times, but he just\n",
        "laughs it off. Last week, he dumped a load of old furniture and it damaged my prized rosebushes.\n",
        "I've had enough and want to sue him for the damage and to make him stop.\"\"\"\n",
        "\n",
        "#let's solve this problem together"
      ],
      "metadata": {
        "id": "BQMmxcCu9z5R"
      },
      "execution_count": 16,
      "outputs": []
    },
    {
      "cell_type": "code",
      "source": [
        "#More models?\n",
        "\n",
        "#Let's take \"llava-v1.5-7b-4096-preview\" for a spin.\n",
        "\n",
        "model_id   = \"llava-v1.5-7b-4096-preview\"\n",
        "\n",
        "#Now, check this image\n",
        "url = \"https://media.wired.com/photos/59a459d1e5238d59ce11404f/master/w_1920,c_limit/MemeLoveTriangle_297886754.jpg\"\n",
        "\n",
        "#What do we see here?\n",
        "\n",
        "#Let's suppose we want to see if, on the day of the crime, there were two women caught by cctv\n",
        "#can we automate something like this?\n",
        "\n"
      ],
      "metadata": {
        "id": "snlaiuTH-6fh"
      },
      "execution_count": 17,
      "outputs": []
    },
    {
      "cell_type": "code",
      "source": [
        "#we need a small function to take images from a url and translate them to the necessary format\n",
        "\n",
        "def encode_image_from_url(image_url):\n",
        "    response = requests.get(image_url)\n",
        "    if response.status_code == 200:\n",
        "        return base64.b64encode(response.content).decode('utf-8')\n",
        "    else:\n",
        "        raise Exception(f\"Failed to retrieve image. Status code: {response.status_code}\")\n",
        "\n",
        "# Use the external image URL\n",
        "\n",
        "prompt = \"How many women are there in the image?\"\n",
        "\n",
        "response = prompt_llm(prompt=prompt, model_id = model_id, image_url=url)\n",
        "print(response)\n",
        "\n",
        "#this model isn't too great... there are better models"
      ],
      "metadata": {
        "colab": {
          "base_uri": "https://localhost:8080/"
        },
        "id": "6j8NPhjcAnHr",
        "outputId": "01666657-f80a-41f6-8f18-41d56ea90ba8"
      },
      "execution_count": 19,
      "outputs": [
        {
          "output_type": "stream",
          "name": "stdout",
          "text": [
            "There are two women in the image.\n"
          ]
        }
      ]
    },
    {
      "cell_type": "markdown",
      "source": [
        "OK, can we do sound?\n",
        "\n",
        "Let's say your client reports of a heated debate she heard between a male and a female. There was possibly some reports of animal abuse, and you want to know whether that's true. But being a soft hearted person, you can't bring yourself to actually hear about that, so you'd rather let the machines do it for you.\n",
        "\n",
        "https://github.com/yonathanarbel/AI-LAW/raw/ba7e96c49c18301944f21d77acaf4dcf19fa9852/Key%20moments%20from%20Donald%20Trump%20and%20Kamala%20Harris's%20US%20presidential%20debate%20BBCNews.mp3"
      ],
      "metadata": {
        "id": "pOrU2kp9GZ2X"
      }
    },
    {
      "cell_type": "code",
      "source": [
        "model_id= \"whisper-large-v3\""
      ],
      "metadata": {
        "id": "gU5vA1CPH9oy"
      },
      "execution_count": 20,
      "outputs": []
    },
    {
      "cell_type": "code",
      "source": [
        "\n",
        "# Function to download the audio file locally\n",
        "def get_audio(audio_url, save_path=\"downloaded_audio.mp3\"):\n",
        "    response = requests.get(audio_url)\n",
        "\n",
        "    if response.status_code == 200:\n",
        "        with open(save_path, 'wb') as audio_file:\n",
        "            audio_file.write(response.content)\n",
        "    else:\n",
        "        raise Exception(f\"Failed to retrieve audio. Status code: {response.status_code}\")\n",
        "\n",
        "# Updated raw audio URL from GitHub\n",
        "audio_url = \"https://github.com/yonathanarbel/AI-LAW/raw/ba7e96c49c18301944f21d77acaf4dcf19fa9852/Key%20moments%20from%20Donald%20Trump%20and%20Kamala%20Harris's%20US%20presidential%20debate%20BBCNews.mp3\"\n",
        "\n",
        "# Download the audio file locally\n",
        "local_audio_path = \"local_audio.mp3\"\n",
        "get_audio(audio_url, save_path=local_audio_path)\n",
        "\n",
        "# Transcribe the downloaded audio file\n",
        "prompt = \"Listen to the recording and tell me if it mentions dogs or cats and the context\"\n",
        "response = prompt_llm(prompt=prompt, model_id=\"whisper-large-v3\", audio_file_path=local_audio_path)\n",
        "\n",
        "\n"
      ],
      "metadata": {
        "id": "G-vRPWAjCYmK"
      },
      "execution_count": 21,
      "outputs": []
    },
    {
      "cell_type": "code",
      "source": [
        "# Output the transcription or response\n",
        "pretty_print(response)"
      ],
      "metadata": {
        "colab": {
          "base_uri": "https://localhost:8080/",
          "height": 220
        },
        "id": "5o1-CBV1IoOa",
        "outputId": "7f0fcce9-320f-41b3-d3d0-4d8aff3fe923"
      },
      "execution_count": 22,
      "outputs": [
        {
          "output_type": "display_data",
          "data": {
            "text/plain": [
              "<IPython.core.display.Markdown object>"
            ],
            "text/markdown": "Kamala Harris, it's a good debate. Good to see you. Have fun. Thank you. And I'm\ngoing to actually do something really unusual, and I'm going to invite you to\nattend one of Donald Trump's rallies, because it's a really interesting thing to\nwatch. And what you will also notice is that people start leaving his rallies\nearly out of exhaustion and boredom. First, let me respond to the rallies. She\nsaid people start leaving. People don't go to her rallies. There's no reason to\ngo. And the people that do go, she's bussing them in and paying them to be\nthere. and then showing them in a different light. So she can't talk about that.\nPeople don't leave my rallies. In Springfield, they're eating the dogs, the\npeople that came in. They're eating the cats. They're eating the pets of the\npeople that live there. ABC News did reach out to the city manager there. He\ntold us there had been no credible reports of specific claims of pets being\nharmed, injured, or abused by individuals within the immigrant community. Well,\nI've seen people on television. Let me just say here, this is the... The people\non television say my dog was taken and used for food. You talk about extreme.\nThey've destroyed the economy. And all you have to do is look at a poll. The\npolls say 80 and 85 and even 90% that the Trump economy was great, that their\neconomy was terrible. Donald Trump has no plan for you. And when you look at his\neconomic plan, it's all about tax breaks for the richest people. I am offering\nwhat I describe as an opportunity economy. She is Biden. You know, she's trying\nto get away from Biden. I don't know the gentleman, she says. Clearly, I am not\nJoe Biden. And I am certainly not Donald Trump."
          },
          "metadata": {}
        }
      ]
    }
  ]
}
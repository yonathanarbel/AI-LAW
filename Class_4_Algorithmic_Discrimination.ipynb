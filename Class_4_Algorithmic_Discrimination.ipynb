{
  "nbformat": 4,
  "nbformat_minor": 0,
  "metadata": {
    "colab": {
      "provenance": [],
      "authorship_tag": "ABX9TyONdp+wm5d6zWf35MEOF5bc",
      "include_colab_link": true
    },
    "kernelspec": {
      "name": "python3",
      "display_name": "Python 3"
    },
    "language_info": {
      "name": "python"
    }
  },
  "cells": [
    {
      "cell_type": "markdown",
      "metadata": {
        "id": "view-in-github",
        "colab_type": "text"
      },
      "source": [
        "<a href=\"https://colab.research.google.com/github/yonathanarbel/AI-LAW/blob/main/Class_4_Algorithmic_Discrimination.ipynb\" target=\"_parent\"><img src=\"https://colab.research.google.com/assets/colab-badge.svg\" alt=\"Open In Colab\"/></a>"
      ]
    },
    {
      "cell_type": "code",
      "execution_count": null,
      "metadata": {
        "id": "rF-iRnbaFw5L"
      },
      "outputs": [],
      "source": [
        "import numpy as np\n",
        "import pandas as pd\n",
        "import matplotlib.pyplot as plt\n",
        "import seaborn as sns\n",
        "from sklearn.model_selection import train_test_split\n",
        "from sklearn.metrics import classification_report\n",
        "from sklearn.neural_network import MLPClassifier\n",
        "from sklearn.preprocessing import LabelEncoder\n",
        "from sklearn.metrics import classification_report, confusion_matrix\n",
        "# For better visualizations\n",
        "%matplotlib inline\n",
        "sns.set(style=\"whitegrid\")\n"
      ]
    },
    {
      "cell_type": "code",
      "source": [
        "#This is the penalty employers place against red haired people.\n",
        "\n",
        "hiring_score[red_indices] -= 0.05\n"
      ],
      "metadata": {
        "id": "B6OYdL-fHs9g"
      },
      "execution_count": null,
      "outputs": []
    },
    {
      "cell_type": "code",
      "source": [
        "#HISTORICAL HIRING PATTERNS\n",
        "# Number of samples\n",
        "num_samples = 10000\n",
        "\n",
        "# Set random seed for reproducibility\n",
        "np.random.seed(42)\n",
        "\n",
        "# Penalties for red-haired people\n",
        "credit_penalty = 100\n",
        "recommendation_penalty = 6.0\n",
        "\n",
        "# Hair color distribution: Assume red-haired people are 10% of the population\n",
        "hair_colors = np.random.choice(['Red', 'Brown', 'Blond'], size=num_samples, p=[0.1, 0.45, 0.45])\n",
        "\n",
        "# GPA scores between 2.0 and 4.0\n",
        "gpa_scores = np.random.uniform(2.0, 4.0, size=num_samples)\n",
        "\n",
        "# Base credit scores\n",
        "credit_scores = np.random.normal(650, 50, size=num_samples)\n",
        "\n",
        "# Get indices for red-haired people\n",
        "red_indices = np.where(hair_colors == 'Red')\n",
        "\n",
        "# Adjust credit scores for red-haired people using the credit_penalty\n",
        "credit_scores[red_indices] -= np.random.normal(credit_penalty, 15, size=len(red_indices[0]))\n",
        "\n",
        "# Ensure credit scores stay within realistic bounds\n",
        "credit_scores = np.clip(credit_scores, 300, 850)\n",
        "\n",
        "# Base recommendations between 1 and 10\n",
        "recommendations = np.random.uniform(1, 10, size=num_samples)\n",
        "\n",
        "# Apply stronger bias to recommendations for red-haired people using the recommendation_penalty\n",
        "recommendations[red_indices] -= np.random.uniform(recommendation_penalty - 2.0, recommendation_penalty + 2.0, size=len(red_indices[0]))\n",
        "\n",
        "# Ensure recommendations stay within 1 to 10\n",
        "recommendations = np.clip(recommendations, 1, 10)\n",
        "\n",
        "# Normalize features as before\n",
        "gpa_norm = (gpa_scores - 2.0) / (4.0 - 2.0)\n",
        "credit_norm = (credit_scores - 300) / (850 - 300)\n",
        "recommendations_norm = (recommendations - 1) / (10 - 1)\n",
        "\n",
        "# Calculate a hiring score with additional penalty for red-haired people\n",
        "hiring_score = 0.35 * gpa_norm + 0.25 * credit_norm + 0.4 * recommendations_norm\n",
        "\n",
        "# Add noise to the hiring score\n",
        "hiring_score += np.random.normal(0, 0.05, size=num_samples)\n",
        "\n",
        "# Threshold to decide hiring (top 30% are hired)\n",
        "threshold = np.percentile(hiring_score, 70)\n",
        "\n",
        "# Generate target variable\n",
        "hired = (hiring_score >= threshold).astype(int)\n",
        "\n",
        "# Create DataFrame\n",
        "data = pd.DataFrame({\n",
        "    'HairColor': hair_colors,\n",
        "    'GPA': gpa_scores,\n",
        "    'CreditScore': credit_scores,\n",
        "    'Recommendations': recommendations,\n",
        "    'Hired': hired\n",
        "})\n",
        "\n",
        "# Display the first few rows\n",
        "data.head()\n",
        "\n",
        "# Hiring rates by hair color\n",
        "hiring_rates = data.groupby('HairColor')['Hired'].mean()\n",
        "print(\"Hiring Rates by Hair Color:\")\n",
        "print(hiring_rates)\n",
        "\n",
        "# Plot\n",
        "colors = {'Red': 'red', 'Brown': 'brown', 'Blond': 'gold'}\n",
        "hiring_rates.plot(kind='bar', color=[colors[i] for i in hiring_rates.index])\n",
        "plt.title('Hiring Rates by Hair Color')\n",
        "plt.ylabel('Proportion Hired')\n",
        "plt.xticks(rotation=0)\n",
        "plt.show()\n",
        "\n",
        "\n"
      ],
      "metadata": {
        "id": "hQ3io6nUFzLF"
      },
      "execution_count": null,
      "outputs": []
    },
    {
      "cell_type": "code",
      "source": [],
      "metadata": {
        "id": "utrPVvkCMH6s"
      },
      "execution_count": null,
      "outputs": []
    },
    {
      "cell_type": "code",
      "source": [
        "#We are now training a model, the model will not have a negative discrimination against red hair people\n",
        "\n",
        "# Encode hair color as a categorical variable\n",
        "label_encoder = LabelEncoder()\n",
        "data['HairColorEncoded'] = label_encoder.fit_transform(data['HairColor'])\n",
        "\n",
        "# Prepare the features (GPA, CreditScore, Recommendations, HairColorEncoded)\n",
        "X = data[['GPA', 'CreditScore', 'Recommendations', 'HairColorEncoded']]\n",
        "\n",
        "# Target variable (Hired)\n",
        "y = data['Hired']\n",
        "\n",
        "# Split the data into training and testing sets\n",
        "X_train, X_test, y_train, y_test = train_test_split(X, y, test_size=0.3, random_state=42)\n",
        "\n",
        "# Define the neural network model\n",
        "mlp = MLPClassifier(hidden_layer_sizes=(10, 10), max_iter=500, random_state=42)\n",
        "\n",
        "# Train the model\n",
        "mlp.fit(X_train, y_train)\n",
        "\n",
        "# Predict the hiring outcomes on the test set\n",
        "y_pred = mlp.predict(X_test)\n",
        "\n",
        "# Evaluate the model\n",
        "print(\"Classification Report:\")\n",
        "print(classification_report(y_test, y_pred))\n",
        "\n",
        "# Confusion matrix\n",
        "print(\"Confusion Matrix:\")\n",
        "print(confusion_matrix(y_test, y_pred))\n",
        "\n",
        "# Analyzing the predictions by hair color to check for bias\n",
        "test_data = X_test.copy()\n",
        "test_data['Hired_Actual'] = y_test\n",
        "test_data['Hired_Predicted'] = y_pred\n",
        "test_data['HairColor'] = label_encoder.inverse_transform(X_test['HairColorEncoded'])\n",
        "\n",
        "# Calculate hiring rates by hair color for the predicted values\n",
        "predicted_hiring_rates = test_data.groupby('HairColor')['Hired_Predicted'].mean()\n",
        "print(\"Predicted Hiring Rates by Hair Color:\")\n",
        "print(predicted_hiring_rates)\n",
        "\n",
        "# Plot the predicted hiring rates\n",
        "predicted_hiring_rates.plot(kind='bar', color=[colors[i] for i in predicted_hiring_rates.index])\n",
        "plt.title('Predicted Hiring Rates by Hair Color')\n",
        "plt.ylabel('Proportion Predicted Hired')\n",
        "plt.xticks(rotation=0)\n",
        "plt.show()\n"
      ],
      "metadata": {
        "id": "GMX0dQ37GKYo"
      },
      "execution_count": null,
      "outputs": []
    },
    {
      "cell_type": "code",
      "source": [
        "#Now, the legislator says: \"You must never include hair color in your models\"\n",
        "\n",
        "# Remove hair color as a feature (only use GPA, CreditScore, and Recommendations)\n",
        "X_no_hair = data[['GPA', 'CreditScore', 'Recommendations']]\n",
        "\n",
        "# Split the data into training and testing sets\n",
        "X_train_no_hair, X_test_no_hair, y_train_no_hair, y_test_no_hair = train_test_split(X_no_hair, y, test_size=0.3, random_state=42)\n",
        "\n",
        "# Define the neural network model\n",
        "mlp_no_hair = MLPClassifier(hidden_layer_sizes=(10, 10), max_iter=500, random_state=42)\n",
        "\n",
        "# Train the model without the hair color feature\n",
        "mlp_no_hair.fit(X_train_no_hair, y_train_no_hair)\n",
        "\n",
        "# Predict the hiring outcomes on the test set\n",
        "y_pred_no_hair = mlp_no_hair.predict(X_test_no_hair)\n",
        "\n",
        "# Evaluate the model\n",
        "print(\"Classification Report (without hair color):\")\n",
        "print(classification_report(y_test_no_hair, y_pred_no_hair))\n",
        "\n",
        "# Confusion matrix\n",
        "print(\"Confusion Matrix (without hair color):\")\n",
        "print(confusion_matrix(y_test_no_hair, y_pred_no_hair))\n",
        "\n",
        "# Analyzing the predictions by hair color to check for continued bias\n",
        "test_data_no_hair = X_test_no_hair.copy()\n",
        "test_data_no_hair['Hired_Actual'] = y_test_no_hair\n",
        "test_data_no_hair['Hired_Predicted'] = y_pred_no_hair\n",
        "test_data_no_hair['HairColor'] = label_encoder.inverse_transform(X_test['HairColorEncoded'])\n",
        "\n",
        "# Calculate hiring rates by hair color for the predicted values (even though hair color wasn't used)\n",
        "predicted_hiring_rates_no_hair = test_data_no_hair.groupby('HairColor')['Hired_Predicted'].mean()\n",
        "print(\"Predicted Hiring Rates by Hair Color (without using hair color):\")\n",
        "print(predicted_hiring_rates_no_hair)\n",
        "\n",
        "# Plot the predicted hiring rates\n",
        "predicted_hiring_rates_no_hair.plot(kind='bar', color=[colors[i] for i in predicted_hiring_rates_no_hair.index])\n",
        "plt.title('Predicted Hiring Rates by Hair Color (Without Hair Color Feature)')\n",
        "plt.ylabel('Proportion Predicted Hired')\n",
        "plt.xticks(rotation=0)\n",
        "plt.show()\n"
      ],
      "metadata": {
        "id": "pGgBPhQOGPK0"
      },
      "execution_count": null,
      "outputs": []
    },
    {
      "cell_type": "code",
      "source": [
        "# Plot CreditScore distributions\n",
        "sns.kdeplot(data=data, x='CreditScore', hue='HairColor')\n",
        "plt.title('CreditScore Distribution by Hair Color')\n",
        "plt.show()\n",
        "\n",
        "# Plot Recommendations distributions\n",
        "sns.kdeplot(data=data, x='Recommendations', hue='HairColor')\n",
        "plt.title('Recommendations Distribution by Hair Color')\n",
        "plt.show()"
      ],
      "metadata": {
        "id": "ooWyXMd9MLUG"
      },
      "execution_count": null,
      "outputs": []
    }
  ]
}
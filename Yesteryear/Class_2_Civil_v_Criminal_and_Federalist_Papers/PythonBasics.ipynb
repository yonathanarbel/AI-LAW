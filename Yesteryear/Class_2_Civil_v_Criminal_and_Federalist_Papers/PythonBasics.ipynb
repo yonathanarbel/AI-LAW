{
  "nbformat": 4,
  "nbformat_minor": 0,
  "metadata": {
    "colab": {
      "provenance": []
    },
    "kernelspec": {
      "name": "python3",
      "display_name": "Python 3"
    },
    "language_info": {
      "name": "python"
    }
  },
  "cells": [
    {
      "cell_type": "markdown",
      "source": [
        "**INTRODUCTION TO PYTHON**"
      ],
      "metadata": {
        "id": "_4JRnw0xG2ar"
      }
    },
    {
      "cell_type": "markdown",
      "source": [
        "1. Print Statement:\n",
        "\n",
        "Explanation: The print function in Python is used to output text or values to the console. It's a great way to get feedback from your code.\n",
        "\n",
        "Example:"
      ],
      "metadata": {
        "id": "9VX4phOV5VNi"
      }
    },
    {
      "cell_type": "code",
      "execution_count": null,
      "metadata": {
        "colab": {
          "base_uri": "https://localhost:8080/"
        },
        "id": "bXQq4dcV5UNo",
        "outputId": "15f8d29b-cd7b-40ec-939d-9334e16a137b"
      },
      "outputs": [
        {
          "output_type": "stream",
          "name": "stdout",
          "text": [
            "Hello, World!\n"
          ]
        }
      ],
      "source": [
        "print(\"Hello, World!\")"
      ]
    },
    {
      "cell_type": "markdown",
      "source": [
        "Practice: Print your name."
      ],
      "metadata": {
        "id": "DJYcsVjD5awx"
      }
    },
    {
      "cell_type": "code",
      "source": [
        "# insert code here"
      ],
      "metadata": {
        "id": "M6sY0ngn8F4w"
      },
      "execution_count": null,
      "outputs": []
    },
    {
      "cell_type": "markdown",
      "source": [
        "2. Variables:\n",
        "\n",
        "Explanation: Variables are used to store information that can be referenced and manipulated in a program.\n",
        "\n",
        "Example:"
      ],
      "metadata": {
        "id": "1SYXifFV5gwl"
      }
    },
    {
      "cell_type": "code",
      "source": [
        "name = \"Alice\"\n",
        "number = 5\n",
        "\n",
        "print(name)\n",
        "print(number)"
      ],
      "metadata": {
        "colab": {
          "base_uri": "https://localhost:8080/"
        },
        "id": "zR-2oWOn5aaW",
        "outputId": "9bb52e2f-08ff-494c-b1f2-5e78d9bbb35a"
      },
      "execution_count": null,
      "outputs": [
        {
          "output_type": "stream",
          "name": "stdout",
          "text": [
            "Alice\n",
            "5\n"
          ]
        }
      ]
    },
    {
      "cell_type": "markdown",
      "source": [
        "Practice: Store your name in a variable and print it."
      ],
      "metadata": {
        "id": "qKBVb1zW5leK"
      }
    },
    {
      "cell_type": "code",
      "source": [
        "# insert code here"
      ],
      "metadata": {
        "id": "ps7sOEY38Wu3"
      },
      "execution_count": null,
      "outputs": []
    },
    {
      "cell_type": "markdown",
      "source": [
        "3. Data Types:\n",
        "\n",
        "Explanation: Python has several built-in data types. The most common ones are integers, strings, and lists.\n",
        "\n",
        "Example:"
      ],
      "metadata": {
        "id": "CnRJSSO05vSR"
      }
    },
    {
      "cell_type": "code",
      "source": [
        "integer_example = 5\n",
        "print(f\"Integer: {integer_example}\")\n",
        "\n",
        "string_example = \"Hello\"\n",
        "print(f\"String: {string_example}\")\n",
        "\n",
        "list_example = [1, 2, 3, 4, 5]\n",
        "print(f\"List: {list_example}\")"
      ],
      "metadata": {
        "colab": {
          "base_uri": "https://localhost:8080/"
        },
        "id": "pVc4O8mM5u6T",
        "outputId": "75393c4f-b649-4a6c-a44c-54e279ee15ea"
      },
      "execution_count": null,
      "outputs": [
        {
          "output_type": "stream",
          "name": "stdout",
          "text": [
            "Integer: 5\n",
            "String: Hello\n",
            "List: [1, 2, 3, 4, 5]\n"
          ]
        }
      ]
    },
    {
      "cell_type": "markdown",
      "source": [
        "Practice: Create a list of your favorite colors."
      ],
      "metadata": {
        "id": "MiBx39fC51_9"
      }
    },
    {
      "cell_type": "code",
      "source": [
        "# insert code here"
      ],
      "metadata": {
        "id": "OqugzkiC8qSb"
      },
      "execution_count": null,
      "outputs": []
    },
    {
      "cell_type": "markdown",
      "source": [
        "4. Basic Arithmetic Operations:\n",
        "\n",
        "Explanation: Python supports all the basic arithmetic operations.\n",
        "\n",
        "Example:"
      ],
      "metadata": {
        "id": "DPRM_jJt55Bv"
      }
    },
    {
      "cell_type": "code",
      "source": [
        "addition = 5 + 3\n",
        "print(f\"Addition: 5 + 3 = {addition}\")\n",
        "\n",
        "subtraction = 5 - 3\n",
        "print(f\"Subtraction: 5 - 3 = {subtraction}\")\n",
        "\n",
        "multiplication = 5 * 3\n",
        "print(f\"Multiplication: 5 * 3 = {multiplication}\")\n",
        "\n",
        "division = 5 / 3\n",
        "print(f\"Division: 5 / 3 = {division:.2f}\")  # Using .2f for formatting to 2 decimal places"
      ],
      "metadata": {
        "colab": {
          "base_uri": "https://localhost:8080/"
        },
        "id": "pZof3xcc59Us",
        "outputId": "44e03fe1-e282-4c2b-a78c-23794d157b1a"
      },
      "execution_count": null,
      "outputs": [
        {
          "output_type": "stream",
          "name": "stdout",
          "text": [
            "Addition: 5 + 3 = 8\n",
            "Subtraction: 5 - 3 = 2\n",
            "Multiplication: 5 * 3 = 15\n",
            "Division: 5 / 3 = 1.67\n"
          ]
        }
      ]
    },
    {
      "cell_type": "markdown",
      "source": [
        "Practice: Calculate the area of a rectangle with length 10 and width 5."
      ],
      "metadata": {
        "id": "e8b3Arp-6AqP"
      }
    },
    {
      "cell_type": "code",
      "source": [
        "# insert code here"
      ],
      "metadata": {
        "id": "bcbT25OxL3UC"
      },
      "execution_count": null,
      "outputs": []
    },
    {
      "cell_type": "markdown",
      "source": [
        "5. If-else Conditional Statements:\n",
        "\n",
        "Explanation: These statements allow you to execute certain blocks of code based on conditions.\n",
        "\n",
        "Example:"
      ],
      "metadata": {
        "id": "mxL98xR76DKr"
      }
    },
    {
      "cell_type": "code",
      "source": [
        "age = 18\n",
        "if age >= 18:\n",
        "    print(\"You are an adult.\")\n",
        "else:\n",
        "    print(\"You are a minor.\")"
      ],
      "metadata": {
        "colab": {
          "base_uri": "https://localhost:8080/"
        },
        "id": "8lvKvYXV6DzS",
        "outputId": "bca55d92-91b2-44e2-ad74-025b3ee84c96"
      },
      "execution_count": null,
      "outputs": [
        {
          "output_type": "stream",
          "name": "stdout",
          "text": [
            "You are an adult.\n"
          ]
        }
      ]
    },
    {
      "cell_type": "markdown",
      "source": [
        "Practice: Write a program to check if a number is even or odd."
      ],
      "metadata": {
        "id": "x45NBaD56FxU"
      }
    },
    {
      "cell_type": "code",
      "source": [
        "# insert code here"
      ],
      "metadata": {
        "id": "Nu3aMZy3L7Tx"
      },
      "execution_count": null,
      "outputs": []
    },
    {
      "cell_type": "markdown",
      "source": [
        "6. For Loops:\n",
        "\n",
        "Explanation: For loops are used to iterate over a sequence (like a list or a string).\n",
        "\n",
        "Example:"
      ],
      "metadata": {
        "id": "toY4eaFv6JxD"
      }
    },
    {
      "cell_type": "code",
      "source": [
        "for i in range(5):\n",
        "    print(i)"
      ],
      "metadata": {
        "colab": {
          "base_uri": "https://localhost:8080/"
        },
        "id": "Kb3tM9oM6JWg",
        "outputId": "94525c5f-0fbe-4dd0-d59d-c17ce642e554"
      },
      "execution_count": null,
      "outputs": [
        {
          "output_type": "stream",
          "name": "stdout",
          "text": [
            "0\n",
            "1\n",
            "2\n",
            "3\n",
            "4\n"
          ]
        }
      ]
    },
    {
      "cell_type": "markdown",
      "source": [
        "Practice: Print the square of numbers from 1 to 10."
      ],
      "metadata": {
        "id": "nVdYtLbb6M9N"
      }
    },
    {
      "cell_type": "code",
      "source": [
        "# insert code here"
      ],
      "metadata": {
        "id": "Cf0ECK0sME9_"
      },
      "execution_count": null,
      "outputs": []
    },
    {
      "cell_type": "markdown",
      "source": [
        "7. While Loops:\n",
        "\n",
        "Explanation: While loops execute a block of code as long as a condition is true.\n",
        "\n",
        "Example:"
      ],
      "metadata": {
        "id": "4lQKGFNn6Qzk"
      }
    },
    {
      "cell_type": "code",
      "source": [
        "count = 0\n",
        "while count < 5:\n",
        "    print(count)\n",
        "    count += 1"
      ],
      "metadata": {
        "colab": {
          "base_uri": "https://localhost:8080/"
        },
        "id": "WwmRpKio6ScS",
        "outputId": "732f4a3c-d2d2-4729-e6e7-d8b42b60bc60"
      },
      "execution_count": null,
      "outputs": [
        {
          "output_type": "stream",
          "name": "stdout",
          "text": [
            "0\n",
            "1\n",
            "2\n",
            "3\n",
            "4\n"
          ]
        }
      ]
    },
    {
      "cell_type": "markdown",
      "source": [
        "Practice: Print numbers from 10 to 1 in reverse order."
      ],
      "metadata": {
        "id": "CBZmRk7p6U-x"
      }
    },
    {
      "cell_type": "code",
      "source": [
        "# insert code here"
      ],
      "metadata": {
        "id": "g8u7QT9FMJb8"
      },
      "execution_count": null,
      "outputs": []
    },
    {
      "cell_type": "markdown",
      "source": [
        "8. Comments:\n",
        "\n",
        "Explanation: Comments are used to explain the code and are not executed.\n",
        "\n",
        "Example:"
      ],
      "metadata": {
        "id": "9yxZ5dng7bsw"
      }
    },
    {
      "cell_type": "code",
      "source": [
        "# This is a comment\n",
        "print(\"This is not a comment\")"
      ],
      "metadata": {
        "colab": {
          "base_uri": "https://localhost:8080/"
        },
        "id": "79hpp5uK7ct3",
        "outputId": "c90b9e30-da90-4cca-bd20-491d9d12fe72"
      },
      "execution_count": null,
      "outputs": [
        {
          "output_type": "stream",
          "name": "stdout",
          "text": [
            "This is not a comment\n"
          ]
        }
      ]
    },
    {
      "cell_type": "markdown",
      "source": [
        "Practice: Write a piece of code and add comments to explain each line."
      ],
      "metadata": {
        "id": "OJYrorJA7gZ1"
      }
    },
    {
      "cell_type": "code",
      "source": [
        "# insert code here"
      ],
      "metadata": {
        "id": "5ZJNTsO1MiAU"
      },
      "execution_count": null,
      "outputs": []
    },
    {
      "cell_type": "markdown",
      "source": [
        "9. Importing Modules:\n",
        "\n",
        "Explanation: Modules are pre-written pieces of code that add functionality to your programs. Python has a built-in module named math containing many functions for mathematical operations.\n",
        "\n",
        "Example:"
      ],
      "metadata": {
        "id": "qOVU9zncjiv1"
      }
    },
    {
      "cell_type": "code",
      "source": [
        "import math\n",
        "\n",
        "# Using some functions from the math module\n",
        "square_root = math.sqrt(25)    # Square root\n",
        "print(f\"Square root of 25: {square_root}\")\n",
        "\n",
        "power = math.pow(2, 3)         # 2 raised to the power of 3\n",
        "print(f\"2 raised to the power of 3: {power}\")\n",
        "\n",
        "factorial = math.factorial(5)  # Factorial of 5\n",
        "print(f\"Factorial of 5: {factorial}\")"
      ],
      "metadata": {
        "id": "rLce3JDvk6xb"
      },
      "execution_count": null,
      "outputs": []
    },
    {
      "cell_type": "markdown",
      "source": [
        "Practice: Google search for more functions availble in the Python math module and try two."
      ],
      "metadata": {
        "id": "zLIhx4Lgk8aB"
      }
    },
    {
      "cell_type": "code",
      "source": [
        "# insert code here"
      ],
      "metadata": {
        "id": "FFEomAdXlF4n"
      },
      "execution_count": null,
      "outputs": []
    }
  ]
}